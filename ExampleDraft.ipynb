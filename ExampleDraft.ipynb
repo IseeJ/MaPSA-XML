{
 "cells": [
  {
   "cell_type": "code",
   "execution_count": 2,
   "id": "334a49d7",
   "metadata": {},
   "outputs": [
    {
     "name": "stdout",
     "output_type": "stream",
     "text": [
      "35494_016_PSP_MANL.txt\n"
     ]
    }
   ],
   "source": [
    "with open('mapsa.txt') as file:\n",
    "    mapsaraw = file.read()\n",
    "    filename = mapsaraw.split(',')[1]\n",
    "print(filename)\n",
    "\n",
    "with open('35494_016_PSP_MANL.txt') as file:\n",
    "    myfile = file.read()\n",
    "    mylines = myfile.split('\\n\\n')\n",
    "    del mylines[16]"
   ]
  },
  {
   "cell_type": "code",
   "execution_count": 3,
   "id": "739c3b27",
   "metadata": {},
   "outputs": [],
   "source": [
    "#get name label from a line\n",
    "def getNameLabel(line):\n",
    "    myelements = line.split(';')\n",
    "    name = myelements[4][:6] + '_'+ myelements[4][6:8]\n",
    "    row = myelements[4][-1:]\n",
    "    col = myelements[5]\n",
    "    coor = str(int(col)-9).zfill(2)\n",
    "    if int(coor) < 0:\n",
    "        col = abs(int(coor))\n",
    "        coor =str(1)+str(col)\n",
    "    return name+'_'+row+coor"
   ]
  },
  {
   "cell_type": "code",
   "execution_count": 6,
   "id": "44f30eea",
   "metadata": {},
   "outputs": [],
   "source": [
    "#create dictionary\n",
    "final_dict = {}\n",
    "final_dict['PARTS'] = {}\n",
    "final_dict['PARTS']['PART mode=\"auto\"'] = {} #doesnt work\n",
    "final_dict['PARTS']['PART mode=\"auto\"']['KIND_OF_PART'] = 'MaPSA'\n",
    "final_dict['PARTS']['PART mode=\"auto\"']['NAME_LABEL'] = mapsaraw.split(',')[0]\n",
    "final_dict['PARTS']['PART mode=\"auto\"']['MANUFACTURER'] = 'AEMtec'\n",
    "final_dict['PARTS']['PART mode=\"auto\"']['LOCATION'] = 'AEMtec'\n",
    "final_dict['PARTS']['PART mode=\"auto\"']['VERSION'] = '2.0'\n",
    "\n",
    "final_dict['PARTS']['PART mode=\"auto\"']['CHILDREN'] ={}"
   ]
  },
  {
   "cell_type": "code",
   "execution_count": 7,
   "id": "670f4a7c",
   "metadata": {},
   "outputs": [],
   "source": [
    "#Add to child dictionary\n",
    "def process(line):\n",
    "    child = {}\n",
    "    child['PART'] = {}\n",
    "    child['PART']['KIND_OF_PART'] = 'MPA Chip'\n",
    "    child['PART']['SERIAL_NUMBER'] = {}\n",
    "    child['PART']['NAME_LABEL'] = getNameLabel(line)\n",
    "    child['PART']['PREDEFINED_ATTRIBUTES'] = {}\n",
    "    child['PART']['PREDEFINED_ATTRIBUTES']['ATTRIBUTE']= {}\n",
    "    child['PART']['PREDEFINED_ATTRIBUTES']['ATTRIBUTE']['NAME'] = 'Chip Posn on Sensor'\n",
    "\n",
    "    return child"
   ]
  },
  {
   "cell_type": "code",
   "execution_count": null,
   "id": "42359eed",
   "metadata": {},
   "outputs": [],
   "source": [
    "from dict2xml import dict2xml\n",
    "\n",
    "\n",
    "for line in mylines:\n",
    "    final_dict['PARTS']['PART mode=\"auto\"']['CHILDREN'] = process(line)\n",
    "    #print(final_dict)\n",
    "    print(dict2xml(final_dict))\n"
   ]
  }
 ],
 "metadata": {
  "kernelspec": {
   "display_name": "Python 3 (ipykernel)",
   "language": "python",
   "name": "python3"
  },
  "language_info": {
   "codemirror_mode": {
    "name": "ipython",
    "version": 3
   },
   "file_extension": ".py",
   "mimetype": "text/x-python",
   "name": "python",
   "nbconvert_exporter": "python",
   "pygments_lexer": "ipython3",
   "version": "3.10.9"
  }
 },
 "nbformat": 4,
 "nbformat_minor": 5
}
