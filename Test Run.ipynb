{
 "cells": [
  {
   "cell_type": "code",
   "execution_count": 2,
   "id": "334a49d7",
   "metadata": {},
   "outputs": [
    {
     "name": "stdout",
     "output_type": "stream",
     "text": [
      "35494_016_PSP_MANL.txt\n"
     ]
    }
   ],
   "source": [
    "with open('mapsa.txt') as file:\n",
    "    mapsaraw = file.read()\n",
    "    filename = mapsaraw.split(',')[1]\n",
    "print(filename)\n",
    "\n",
    "with open('35494_016_PSP_MANL.txt') as file:\n",
    "    myfile = file.read()\n",
    "    mylines = myfile.split('\\n\\n')\n",
    "    del mylines[16]"
   ]
  },
  {
   "cell_type": "code",
   "execution_count": 3,
   "id": "739c3b27",
   "metadata": {},
   "outputs": [],
   "source": [
    "#get name label from a line\n",
    "def getNameLabel(line):\n",
    "    myelements = line.split(';')\n",
    "    name = myelements[4][:6] + '_'+ myelements[4][6:8]\n",
    "    row = myelements[4][-1:]\n",
    "    col = myelements[5]\n",
    "    coor = str(int(col)-9).zfill(2)\n",
    "    if int(coor) < 0:\n",
    "        col = abs(int(coor))\n",
    "        coor =str(1)+str(col)\n",
    "    return name+'_'+row+coor"
   ]
  },
  {
   "cell_type": "code",
   "execution_count": 6,
   "id": "44f30eea",
   "metadata": {},
   "outputs": [],
   "source": [
    "#create dictionary\n",
    "final_dict = {}\n",
    "final_dict['PARTS'] = {}\n",
    "final_dict['PARTS']['PART'] = {}\n"
   ]
  },
  {
   "cell_type": "code",
   "execution_count": 7,
   "id": "670f4a7c",
   "metadata": {},
   "outputs": [],
   "source": [
    "#Add to child dictionary\n",
    "def process(line):\n",
    "    child = {}\n",
    "    child['PART'] = {}\n",
    "    child['PART']['KIND_OF_PART'] = {}\n",
    "    child['PART']['SERIAL_NUMBER'] = {}\n",
    "    child['PART']['NAME_LABEL'] = getNameLabel(line)\n",
    "\n",
    "    return child"
   ]
  },
  {
   "cell_type": "code",
   "execution_count": 8,
   "id": "15481a8f",
   "metadata": {},
   "outputs": [
    {
     "name": "stdout",
     "output_type": "stream",
     "text": [
      "{'PARTS': {'PART': {}}, 'CHILDREN': {'PART': {'KIND_OF_PART': {}, 'SERIAL_NUMBER': {}, 'NAME_LABEL': 'N6Y215_03_506'}}}\n",
      "{'PARTS': {'PART': {}}, 'CHILDREN': {'PART': {'KIND_OF_PART': {}, 'SERIAL_NUMBER': {}, 'NAME_LABEL': 'N6Y215_03_505'}}}\n",
      "{'PARTS': {'PART': {}}, 'CHILDREN': {'PART': {'KIND_OF_PART': {}, 'SERIAL_NUMBER': {}, 'NAME_LABEL': 'N6Y215_03_504'}}}\n",
      "{'PARTS': {'PART': {}}, 'CHILDREN': {'PART': {'KIND_OF_PART': {}, 'SERIAL_NUMBER': {}, 'NAME_LABEL': 'N6Y215_03_503'}}}\n",
      "{'PARTS': {'PART': {}}, 'CHILDREN': {'PART': {'KIND_OF_PART': {}, 'SERIAL_NUMBER': {}, 'NAME_LABEL': 'N6Y215_03_502'}}}\n",
      "{'PARTS': {'PART': {}}, 'CHILDREN': {'PART': {'KIND_OF_PART': {}, 'SERIAL_NUMBER': {}, 'NAME_LABEL': 'N6Y215_03_501'}}}\n",
      "{'PARTS': {'PART': {}}, 'CHILDREN': {'PART': {'KIND_OF_PART': {}, 'SERIAL_NUMBER': {}, 'NAME_LABEL': 'N6Y215_03_500'}}}\n",
      "{'PARTS': {'PART': {}}, 'CHILDREN': {'PART': {'KIND_OF_PART': {}, 'SERIAL_NUMBER': {}, 'NAME_LABEL': 'N6Y215_03_511'}}}\n",
      "{'PARTS': {'PART': {}}, 'CHILDREN': {'PART': {'KIND_OF_PART': {}, 'SERIAL_NUMBER': {}, 'NAME_LABEL': 'N6Y215_03_512'}}}\n",
      "{'PARTS': {'PART': {}}, 'CHILDREN': {'PART': {'KIND_OF_PART': {}, 'SERIAL_NUMBER': {}, 'NAME_LABEL': 'N6Y215_03_513'}}}\n",
      "{'PARTS': {'PART': {}}, 'CHILDREN': {'PART': {'KIND_OF_PART': {}, 'SERIAL_NUMBER': {}, 'NAME_LABEL': 'N6Y215_03_514'}}}\n",
      "{'PARTS': {'PART': {}}, 'CHILDREN': {'PART': {'KIND_OF_PART': {}, 'SERIAL_NUMBER': {}, 'NAME_LABEL': 'N6Y215_03_515'}}}\n",
      "{'PARTS': {'PART': {}}, 'CHILDREN': {'PART': {'KIND_OF_PART': {}, 'SERIAL_NUMBER': {}, 'NAME_LABEL': 'N6Y215_03_516'}}}\n",
      "{'PARTS': {'PART': {}}, 'CHILDREN': {'PART': {'KIND_OF_PART': {}, 'SERIAL_NUMBER': {}, 'NAME_LABEL': 'N6Y215_03_517'}}}\n",
      "{'PARTS': {'PART': {}}, 'CHILDREN': {'PART': {'KIND_OF_PART': {}, 'SERIAL_NUMBER': {}, 'NAME_LABEL': 'N6Y215_03_518'}}}\n",
      "{'PARTS': {'PART': {}}, 'CHILDREN': {'PART': {'KIND_OF_PART': {}, 'SERIAL_NUMBER': {}, 'NAME_LABEL': 'N6Y215_03_519'}}}\n"
     ]
    }
   ],
   "source": [
    "for line in mylines:\n",
    "    final_dict['CHILDREN'] = process(line)\n",
    "    print(final_dict)"
   ]
  },
  {
   "cell_type": "code",
   "execution_count": null,
   "id": "42359eed",
   "metadata": {},
   "outputs": [],
   "source": []
  }
 ],
 "metadata": {
  "kernelspec": {
   "display_name": "Python 3 (ipykernel)",
   "language": "python",
   "name": "python3"
  },
  "language_info": {
   "codemirror_mode": {
    "name": "ipython",
    "version": 3
   },
   "file_extension": ".py",
   "mimetype": "text/x-python",
   "name": "python",
   "nbconvert_exporter": "python",
   "pygments_lexer": "ipython3",
   "version": "3.10.9"
  }
 },
 "nbformat": 4,
 "nbformat_minor": 5
}
