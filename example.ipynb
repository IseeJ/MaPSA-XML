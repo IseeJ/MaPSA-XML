{
 "cells": [
  {
   "cell_type": "code",
   "execution_count": 1,
   "metadata": {},
   "outputs": [
    {
     "ename": "ImportError",
     "evalue": "No module named abc",
     "output_type": "error",
     "traceback": [
      "\u001b[0;31m---------------------------------------------------------------------------\u001b[0m",
      "\u001b[0;31mImportError\u001b[0m                               Traceback (most recent call last)",
      "\u001b[0;32m<ipython-input-1-f9cfe16098f9>\u001b[0m in \u001b[0;36m<module>\u001b[0;34m()\u001b[0m\n\u001b[0;32m----> 1\u001b[0;31m \u001b[0;32mfrom\u001b[0m \u001b[0mdict2xml\u001b[0m \u001b[0;32mimport\u001b[0m \u001b[0mdict2xml\u001b[0m\u001b[0;34m\u001b[0m\u001b[0m\n\u001b[0m",
      "\u001b[0;32m/uscms/home/jennetd/.local/lib/python2.7/site-packages/dict2xml/__init__.py\u001b[0m in \u001b[0;36m<module>\u001b[0;34m()\u001b[0m\n\u001b[0;32m----> 1\u001b[0;31m \u001b[0;32mfrom\u001b[0m \u001b[0mdict2xml\u001b[0m\u001b[0;34m.\u001b[0m\u001b[0mlogic\u001b[0m \u001b[0;32mimport\u001b[0m \u001b[0mConverter\u001b[0m\u001b[0;34m,\u001b[0m \u001b[0mNode\u001b[0m\u001b[0;34m\u001b[0m\u001b[0m\n\u001b[0m\u001b[1;32m      2\u001b[0m \u001b[0;34m\u001b[0m\u001b[0m\n\u001b[1;32m      3\u001b[0m \u001b[0;34m\u001b[0m\u001b[0m\n\u001b[1;32m      4\u001b[0m \u001b[0;32mdef\u001b[0m \u001b[0mdict2xml\u001b[0m\u001b[0;34m(\u001b[0m\u001b[0mdata\u001b[0m\u001b[0;34m,\u001b[0m \u001b[0;34m*\u001b[0m\u001b[0margs\u001b[0m\u001b[0;34m,\u001b[0m \u001b[0;34m**\u001b[0m\u001b[0mkwargs\u001b[0m\u001b[0;34m)\u001b[0m\u001b[0;34m:\u001b[0m\u001b[0;34m\u001b[0m\u001b[0m\n\u001b[1;32m      5\u001b[0m     \u001b[0;34m\"\"\"Return an XML string of a Python dict object.\"\"\"\u001b[0m\u001b[0;34m\u001b[0m\u001b[0m\n",
      "\u001b[0;32m/uscms/home/jennetd/.local/lib/python2.7/site-packages/dict2xml/logic.py\u001b[0m in \u001b[0;36m<module>\u001b[0;34m()\u001b[0m\n\u001b[0;32m----> 1\u001b[0;31m \u001b[0;32mimport\u001b[0m \u001b[0mcollections\u001b[0m\u001b[0;34m.\u001b[0m\u001b[0mabc\u001b[0m\u001b[0;34m\u001b[0m\u001b[0m\n\u001b[0m\u001b[1;32m      2\u001b[0m \u001b[0;32mimport\u001b[0m \u001b[0mcollections\u001b[0m\u001b[0;34m\u001b[0m\u001b[0m\n\u001b[1;32m      3\u001b[0m \u001b[0;32mimport\u001b[0m \u001b[0mre\u001b[0m\u001b[0;34m\u001b[0m\u001b[0m\n\u001b[1;32m      4\u001b[0m \u001b[0;34m\u001b[0m\u001b[0m\n\u001b[1;32m      5\u001b[0m start_ranges = \"|\".join(\n",
      "\u001b[0;31mImportError\u001b[0m: No module named abc"
     ]
    }
   ],
   "source": [
    "#from dict2xml import dict2xml"
   ]
  },
  {
   "cell_type": "code",
   "execution_count": null,
   "metadata": {},
   "outputs": [],
   "source": [
    "# mapsa block\n",
    "\n",
    "final_dict = {}\n",
    "final_dict['PARTS'] = {}\n",
    "final_dict['PARTS']['PART'] = {}\n",
    "\n",
    "\n",
    "# fill in mapsa attributes and name and blah blaah"
   ]
  },
  {
   "cell_type": "code",
   "execution_count": 2,
   "metadata": {},
   "outputs": [],
   "source": [
    "# read mapsa.txt\n",
    "filename = \"35494_016_PSP_MANL.txt\""
   ]
  },
  {
   "cell_type": "code",
   "execution_count": 10,
   "metadata": {},
   "outputs": [],
   "source": [
    "# Opening file\n",
    "with open(filename) as file:\n",
    "    myfile = file.read()\n",
    "\n",
    "mylines = myfile.split('\\r\\n')"
   ]
  },
  {
   "cell_type": "code",
   "execution_count": null,
   "metadata": {},
   "outputs": [],
   "source": [
    "def convert():\n",
    "    # formula here\n",
    "    return ASIC_number"
   ]
  },
  {
   "cell_type": "code",
   "execution_count": null,
   "metadata": {},
   "outputs": [],
   "source": [
    "def process(line):\n",
    "     \n",
    "    d = {}\n",
    "    d\n",
    "    \n",
    "    return child"
   ]
  },
  {
   "cell_type": "code",
   "execution_count": 14,
   "metadata": {},
   "outputs": [],
   "source": [
    "for line in mylines\n",
    "    final_dict['CHILDREN'] = process(line)"
   ]
  },
  {
   "cell_type": "code",
   "execution_count": 12,
   "metadata": {},
   "outputs": [
    {
     "data": {
      "text/plain": [
       "['2;35494_016_PSP_MAL;1;D1-bp;N6Y21503C4-5;15;49;233;',\n",
       " '2;35494_016_PSP_MAL;1;D2-bp;N6Y21503C4-5;14;49;233;',\n",
       " '2;35494_016_PSP_MAL;2;D1-bp;N6Y21503C4-5;13;49;233;',\n",
       " '2;35494_016_PSP_MAL;2;D2-bp;N6Y21503C4-5;12;49;233;',\n",
       " '2;35494_016_PSP_MAL;3;D1-bp;N6Y21503C4-5;11;49;233;',\n",
       " '2;35494_016_PSP_MAL;3;D2-bp;N6Y21503C4-5;10;49;233;',\n",
       " '2;35494_016_PSP_MAL;4;D1-bp;N6Y21503C4-5;9;49;233;',\n",
       " '2;35494_016_PSP_MAL;4;D2-bp;N6Y21503C4-5;8;49;233;',\n",
       " '2;35494_016_PSP_MAL;5;D1-bp;N6Y21503C4-5;7;49;233;',\n",
       " '2;35494_016_PSP_MAL;5;D2-bp;N6Y21503C4-5;6;49;233;',\n",
       " '2;35494_016_PSP_MAL;6;D1-bp;N6Y21503C4-5;5;49;233;',\n",
       " '2;35494_016_PSP_MAL;6;D2-bp;N6Y21503C4-5;4;49;233;',\n",
       " '2;35494_016_PSP_MAL;7;D1-bp;N6Y21503C4-5;3;49;233;',\n",
       " '2;35494_016_PSP_MAL;7;D2-bp;N6Y21503C4-5;2;49;233;',\n",
       " '2;35494_016_PSP_MAL;8;D1-bp;N6Y21503C4-5;1;49;233;',\n",
       " '2;35494_016_PSP_MAL;8;D2-bp;N6Y21503C4-5;0;49;233;',\n",
       " '']"
      ]
     },
     "execution_count": 12,
     "metadata": {},
     "output_type": "execute_result"
    }
   ],
   "source": [
    "mylines"
   ]
  },
  {
   "cell_type": "code",
   "execution_count": null,
   "metadata": {},
   "outputs": [],
   "source": []
  }
 ],
 "metadata": {
  "kernelspec": {
   "display_name": "Python 2",
   "language": "python",
   "name": "python2"
  },
  "language_info": {
   "codemirror_mode": {
    "name": "ipython",
    "version": 2
   },
   "file_extension": ".py",
   "mimetype": "text/x-python",
   "name": "python",
   "nbconvert_exporter": "python",
   "pygments_lexer": "ipython2",
   "version": "2.7.16"
  }
 },
 "nbformat": 4,
 "nbformat_minor": 2
}
