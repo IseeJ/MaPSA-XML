{
  "nbformat": 4,
  "nbformat_minor": 0,
  "metadata": {
    "colab": {
      "provenance": []
    },
    "kernelspec": {
      "name": "python3",
      "display_name": "Python 3"
    },
    "language_info": {
      "name": "python"
    }
  },
  "cells": [
    {
      "cell_type": "code",
      "execution_count": null,
      "metadata": {
        "colab": {
          "base_uri": "https://localhost:8080/",
          "height": 381
        },
        "id": "2pNJgvaXbrf5",
        "outputId": "ce238594-e7ee-48d5-cf54-2a1f17f9a6a6"
      },
      "outputs": [
        {
          "output_type": "stream",
          "name": "stdout",
          "text": [
            "Looking in indexes: https://pypi.org/simple, https://us-python.pkg.dev/colab-wheels/public/simple/\n",
            "Collecting dict2xml==1.6.1\n",
            "  Downloading dict2xml-1.6.1.tar.gz (5.8 kB)\n",
            "  Preparing metadata (setup.py) ... \u001b[?25l\u001b[?25hdone\n",
            "Requirement already satisfied: six in /usr/local/lib/python3.10/dist-packages (from dict2xml==1.6.1) (1.16.0)\n",
            "Building wheels for collected packages: dict2xml\n",
            "  Building wheel for dict2xml (setup.py) ... \u001b[?25l\u001b[?25hdone\n",
            "  Created wheel for dict2xml: filename=dict2xml-1.6.1-py3-none-any.whl size=6072 sha256=1ef83ccf4cdc9dc8a42e08d79cd285c356740e7f65814267728abafab2651344\n",
            "  Stored in directory: /root/.cache/pip/wheels/8d/3f/4d/33387800f794dce116ef302f97f9cfa66902687c7dce67de15\n",
            "Successfully built dict2xml\n",
            "Installing collected packages: dict2xml\n",
            "  Attempting uninstall: dict2xml\n",
            "    Found existing installation: dict2xml 1.7.3\n",
            "    Uninstalling dict2xml-1.7.3:\n",
            "      Successfully uninstalled dict2xml-1.7.3\n",
            "Successfully installed dict2xml-1.6.1\n"
          ]
        },
        {
          "output_type": "display_data",
          "data": {
            "application/vnd.colab-display-data+json": {
              "pip_warning": {
                "packages": [
                  "dict2xml"
                ]
              }
            }
          },
          "metadata": {}
        }
      ],
      "source": [
        "!pip install dict2xml==1.6.1"
      ]
    },
    {
      "cell_type": "code",
      "source": [
        "from dict2xml import dict2xml\n",
        "from dict2xml import dict2xml as d2x\n",
        "data = {\n",
        "    'PARTS' : {\n",
        "        'PART mode=\"auto': {\n",
        "            'KIND_OF_PART': 'MaPSA',\n",
        "            'NAME_LABEL': 'AEM_35494_016L',\n",
        "            'LOCATION': 'AEMtec',\n",
        "            'VERSION': '2.0'\n",
        "        }\n",
        "    }\n",
        "  }\n",
        "print (d2x(data, wrap=\"all\", indent=\"  \"))"
      ],
      "metadata": {
        "id": "CNGdbVFgbvG3",
        "colab": {
          "base_uri": "https://localhost:8080/"
        },
        "outputId": "3ca76cc4-1740-4df1-c492-281b31dac8f5"
      },
      "execution_count": null,
      "outputs": [
        {
          "output_type": "stream",
          "name": "stdout",
          "text": [
            "<all>\n",
            "  <PARTS>\n",
            "    <PART_mode__auto>\n",
            "      <KIND_OF_PART>MaPSA</KIND_OF_PART>\n",
            "      <LOCATION>AEMtec</LOCATION>\n",
            "      <NAME_LABEL>AEM_35494_016L</NAME_LABEL>\n",
            "      <VERSION>2.0</VERSION>\n",
            "    </PART_mode__auto>\n",
            "  </PARTS>\n",
            "</all>\n"
          ]
        }
      ]
    },
    {
      "cell_type": "code",
      "source": [
        "with open('35494_016_PSP_MANL.txt') as file:\n",
        "  myfile = file.read()\n",
        "  print(myfile)"
      ],
      "metadata": {
        "colab": {
          "base_uri": "https://localhost:8080/"
        },
        "id": "qsoSLmIjb0F6",
        "outputId": "37ffc1aa-41a1-4bd2-a3a5-6b4781597529"
      },
      "execution_count": null,
      "outputs": [
        {
          "output_type": "stream",
          "name": "stdout",
          "text": [
            "2;35494_016_PSP_MAL;1;D1-bp;N6Y21503C4-5;15;49;233;\n",
            "\n",
            "2;35494_016_PSP_MAL;1;D2-bp;N6Y21503C4-5;14;49;233;\n",
            "\n",
            "2;35494_016_PSP_MAL;2;D1-bp;N6Y21503C4-5;13;49;233;\n",
            "\n",
            "2;35494_016_PSP_MAL;2;D2-bp;N6Y21503C4-5;12;49;233;\n",
            "\n",
            "2;35494_016_PSP_MAL;3;D1-bp;N6Y21503C4-5;11;49;233;\n",
            "\n",
            "2;35494_016_PSP_MAL;3;D2-bp;N6Y21503C4-5;10;49;233;\n",
            "\n",
            "2;35494_016_PSP_MAL;4;D1-bp;N6Y21503C4-5;9;49;233;\n",
            "\n",
            "2;35494_016_PSP_MAL;4;D2-bp;N6Y21503C4-5;8;49;233;\n",
            "\n",
            "2;35494_016_PSP_MAL;5;D1-bp;N6Y21503C4-5;7;49;233;\n",
            "\n",
            "2;35494_016_PSP_MAL;5;D2-bp;N6Y21503C4-5;6;49;233;\n",
            "\n",
            "2;35494_016_PSP_MAL;6;D1-bp;N6Y21503C4-5;5;49;233;\n",
            "\n",
            "2;35494_016_PSP_MAL;6;D2-bp;N6Y21503C4-5;4;49;233;\n",
            "\n",
            "2;35494_016_PSP_MAL;7;D1-bp;N6Y21503C4-5;3;49;233;\n",
            "\n",
            "2;35494_016_PSP_MAL;7;D2-bp;N6Y21503C4-5;2;49;233;\n",
            "\n",
            "2;35494_016_PSP_MAL;8;D1-bp;N6Y21503C4-5;1;49;233;\n",
            "\n",
            "2;35494_016_PSP_MAL;8;D2-bp;N6Y21503C4-5;0;49;233;\n",
            "\n",
            "\n"
          ]
        }
      ]
    },
    {
      "cell_type": "code",
      "source": [
        "data1 = myfile.split('\\n\\n')\n",
        "data2 = data1[1]\n",
        "data3 = data2.split(';')\n",
        "data4 = data3[4].split('-')"
      ],
      "metadata": {
        "id": "wfcreK8_cWAT"
      },
      "execution_count": null,
      "outputs": []
    },
    {
      "cell_type": "code",
      "source": [
        "#fname = input('Enter file name: ')\n",
        "fname='35494_016_PSP_MANL.txt'\n",
        "with open(fname) as file:\n",
        "  myfile = file.read()\n",
        "  #print(myfile)\n",
        "\n",
        "#print(fname)\n",
        "fname_split = fname.split('_')"
      ],
      "metadata": {
        "id": "lwszEoAMci8q"
      },
      "execution_count": null,
      "outputs": []
    }
  ]
}